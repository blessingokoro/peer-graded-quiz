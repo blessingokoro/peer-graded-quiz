{
  "metadata": {
    "kernelspec": {
      "name": "python",
      "display_name": "Pyolite",
      "language": "python"
    },
    "language_info": {
      "codemirror_mode": {
        "name": "python",
        "version": 3
      },
      "file_extension": ".py",
      "mimetype": "text/x-python",
      "name": "python",
      "nbconvert_exporter": "python",
      "pygments_lexer": "ipython3",
      "version": "3.8"
    }
  },
  "nbformat_minor": 4,
  "nbformat": 4,
  "cells": [
    {
      "cell_type": "markdown",
      "source": "#My Jupyter Notebook on IBM Watson Studio",
      "metadata": {}
    },
    {
      "cell_type": "markdown",
      "source": "##**0koro Blessing**",
      "metadata": {}
    },
    {
      "cell_type": "markdown",
      "source": "###*I am interested in data science because i am a very curious person and i want to be able to make predictions from insights gained from data.",
      "metadata": {}
    },
    {
      "cell_type": "markdown",
      "source": "####**Making random calculations",
      "metadata": {}
    },
    {
      "cell_type": "code",
      "source": "age = 45\nheight = 6\nprint(age + height)",
      "metadata": {
        "trusted": true
      },
      "execution_count": 16,
      "outputs": [
        {
          "name": "stdout",
          "text": "51\n",
          "output_type": "stream"
        }
      ]
    },
    {
      "cell_type": "markdown",
      "source": "Classes of foods\n- Protein\n    -fish\n    -meat\n- Carbohydrates\n    -yam\n    -rice\n- Vitamins\n    -carrots\n    -sweet potato\n    \nLibraries for data science\n1. pandas\n2. numpy\n3. matplotlib\n4. scipy\n\n\n",
      "metadata": {}
    }
  ]
}